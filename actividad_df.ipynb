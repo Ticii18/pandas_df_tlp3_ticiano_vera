{
 "cells": [
  {
   "cell_type": "markdown",
   "id": "12ad2501",
   "metadata": {},
   "source": [
    "# Actividad - Trabajando con DataFrames de Pandas.\n",
    "## Criterios de evaluación.\n",
    "\n",
    "* Se deben utilizar nombres de variables descriptivos y claros (Utilizar la nomeclatura correspondiente para los nombres de variables).\n",
    "* Comentarios claros y concisos que expliquen el propósito de cada sección del código.\n",
    "* Utilizar mensajes de commit **descriptivos**. (Puedes utilizar la extension CONVENTIONAL COMMIT de VS-CODE). \n",
    "* Entrega en tiempo y forma.\n",
    "* Todo el código desarrollado debe ser subido a un repositorio en GitHub (el nombre del repositorio de seguir la siguiente estructura: pandas_df_tlp3_nombre_apellido).\n",
    "* Para resolver las actividades se debe insertar casillas de codigo entre cada actividad del cuaderno de Jupyter\n",
    "* Deben trabajar con el datasets adjunto a la actividad\n",
    "\n",
    "### ¡Importante!\n",
    "**El incumplimiento de los criterios de evaluación restará puntos en la nota final del práctico!**"
   ]
  },
  {
   "cell_type": "code",
   "execution_count": null,
   "id": "afc60e66",
   "metadata": {},
   "outputs": [],
   "source": [
    "import pandas as pd\n",
    "import sqlite3\n",
    "\n",
    "#Aqui agrega la conexión a la base de datos\n",
    "conex = sqlite3.connect(\"Salaries.sqlite\")\n",
    "\n",
    "\n",
    "#Crea el dataframe con los datos del datasets\n",
    "\n",
    "df = pd.read_sql_query(\"SELECT * FROM salaries\", conex)\n",
    "\n",
    "# Asegurar que los valores sean numéricos\n",
    "df[\"TotalPayBenefits\"] = pd.to_numeric(df[\"TotalPayBenefits\"], errors=\"coerce\")\n",
    "df[\"OvertimePay\"] = pd.to_numeric(df[\"OvertimePay\"], errors=\"coerce\")\n",
    "df[\"BasePay\"] = pd.to_numeric(df[\"BasePay\"], errors=\"coerce\")\n",
    "\n",
    "df.head()\n"
   ]
  },
  {
   "cell_type": "markdown",
   "id": "b993b225",
   "metadata": {},
   "source": [
    "1. **Top 10 empleados con mayor salario total (incluyendo beneficios)**\n",
    "Extrae e imprime un top 10 de expleados con mayor salario incluyendo los beneficios \n"
   ]
  },
  {
   "cell_type": "code",
   "execution_count": null,
   "id": "135f2471",
   "metadata": {},
   "outputs": [],
   "source": [
    "#todo\n",
    "Top_10 = df.sort_values(by='TotalPayBenefits', ascending=False)[[\"EmployeeName\", \"TotalPayBenefits\"]].head(10) #Top 10 empleados con mayor TotalPayBenefits\n",
    "print(Top_10)"
   ]
  },
  {
   "cell_type": "markdown",
   "id": "fd03ce6c",
   "metadata": {},
   "source": [
    "2. **Filtrar empleados con más de 50,000 en horas extra, la columna a tratar es: (OvertimePay)**"
   ]
  },
  {
   "cell_type": "code",
   "execution_count": null,
   "id": "c5dc65c7",
   "metadata": {},
   "outputs": [],
   "source": [
    "#todo\n",
    "horas_extras =df[df['OvertimePay'] > 50000 ][[\"EmployeeName\",\"OvertimePay\"]] #Empleados con más de 50000 en OvertimePay\n",
    "print(f\"Empleados por con mas de 50k en horas extras \\n {horas_extras.head(10)}\")"
   ]
  },
  {
   "cell_type": "markdown",
   "id": "518b4eab",
   "metadata": {},
   "source": [
    "3. **Contar cuántos empleados únicos hay por año**"
   ]
  },
  {
   "cell_type": "code",
   "execution_count": null,
   "id": "e35c5908",
   "metadata": {},
   "outputs": [],
   "source": [
    "#todo\n",
    "empleados_año = df.groupby(\"Year\")[\"EmployeeName\"].nunique()    \n",
    "print(f\"Empleados unicos por año: \\n {empleados_año}\") \n",
    "\n"
   ]
  },
  {
   "cell_type": "markdown",
   "id": "9105e992",
   "metadata": {},
   "source": [
    "4. **Ver cuántos cargos únicos (JobTitle) existen y los 5 más comunes**"
   ]
  },
  {
   "cell_type": "code",
   "execution_count": null,
   "id": "e388d537",
   "metadata": {},
   "outputs": [],
   "source": [
    "#todo\n",
    "Cargos_unicos = df[\"JobTitle\"].nunique() #Número de cargos únicos\n",
    "print(f\"Los cargos unicos son {Cargos_unicos}\")\n",
    "\n",
    "cargo_comunes = df[\"JobTitle\"].value_counts().head(5) #Top 5 cargos más comunes\n",
    "print(f\"\\n los cargos mas comunes son: {cargo_comunes}\")\n"
   ]
  },
  {
   "cell_type": "markdown",
   "id": "b34c7043",
   "metadata": {},
   "source": [
    "5. **Mostrar el salario total (TotalPay) promedio por año**"
   ]
  },
  {
   "cell_type": "code",
   "execution_count": null,
   "id": "64d765f0",
   "metadata": {},
   "outputs": [],
   "source": [
    "#todo\n",
    "\n",
    "#mostrar el salario total promedio por año\n",
    "salario_promedio = df.groupby(\"Year\")[\"TotalPayBenefits\"].mean() # Salario promedio por año utilizando .mean() \n",
    "print(f\"\\nEl salario promedio por año es: {salario_promedio}\")"
   ]
  },
  {
   "cell_type": "markdown",
   "id": "cd1d7071",
   "metadata": {},
   "source": [
    "6. **Exporta todos los datos a un CSV y muestra los ultimos 10 valores**"
   ]
  },
  {
   "cell_type": "code",
   "execution_count": null,
   "id": "1f27e45c",
   "metadata": {},
   "outputs": [],
   "source": [
    "#todo\n",
    "df.to_csv(\"salaries_exportado.csv\", index=False) #Exportar el DataFrame a un archivo CSV\n",
    "print(f\"\\nActividad 6 - Últimos 10 registros del DataFrame exportado: \\n {df.tail(10)}\") \n"
   ]
  }
 ],
 "metadata": {
  "kernelspec": {
   "display_name": "Python 3",
   "language": "python",
   "name": "python3"
  },
  "language_info": {
   "codemirror_mode": {
    "name": "ipython",
    "version": 3
   },
   "file_extension": ".py",
   "mimetype": "text/x-python",
   "name": "python",
   "nbconvert_exporter": "python",
   "pygments_lexer": "ipython3",
   "version": "3.13.2"
  }
 },
 "nbformat": 4,
 "nbformat_minor": 5
}
